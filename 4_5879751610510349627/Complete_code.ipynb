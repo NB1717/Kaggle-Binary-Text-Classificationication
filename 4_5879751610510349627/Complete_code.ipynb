{
 "cells": [
  {
   "cell_type": "code",
   "execution_count": 1,
   "metadata": {},
   "outputs": [
    {
     "name": "stdout",
     "output_type": "stream",
     "text": [
      "X_train shape: (9422, 26354)\n",
      "X_test shape: (2356, 26354)\n",
      "y_train shape: (9422,)\n"
     ]
    }
   ],
   "source": [
    "import numpy as np\n",
    "import pandas as pd\n",
    "\n",
    "# Load the training and test data\n",
    "X_train = np.load('data_train.npy')\n",
    "X_test = np.load('data_test.npy')\n",
    "\n",
    "# Load the training labels\n",
    "y_train = pd.read_csv('label_train.csv')['label'].values\n",
    "\n",
    "# Load the vocabulary map\n",
    "vocab_map = np.load('vocab_map.npy', allow_pickle=True)\n",
    "\n",
    "# Check the shapes of the datasets\n",
    "print(f\"X_train shape: {X_train.shape}\")\n",
    "print(f\"X_test shape: {X_test.shape}\")\n",
    "print(f\"y_train shape: {y_train.shape}\")"
   ]
  },
  {
   "cell_type": "code",
   "execution_count": 2,
   "metadata": {},
   "outputs": [
    {
     "name": "stdout",
     "output_type": "stream",
     "text": [
      "Vocabulary size: 26354\n",
      "Class distribution: {np.int64(0): np.int64(7124), np.int64(1): np.int64(2298)}\n"
     ]
    }
   ],
   "source": [
    "# Vocabulary size\n",
    "n_terms = X_train.shape[1]\n",
    "print(f\"Vocabulary size: {n_terms}\")\n",
    "\n",
    "# Class distribution\n",
    "unique, counts = np.unique(y_train, return_counts=True)\n",
    "print(f\"Class distribution: {dict(zip(unique, counts))}\")"
   ]
  },
  {
   "cell_type": "code",
   "execution_count": 3,
   "metadata": {},
   "outputs": [],
   "source": [
    "from sklearn.model_selection import train_test_split\n",
    "X_train_split, X_val, y_train_split, y_val = train_test_split(X_train, y_train, test_size=0.2, random_state=42)"
   ]
  },
  {
   "cell_type": "code",
   "execution_count": 4,
   "metadata": {},
   "outputs": [],
   "source": [
    "from sklearn.feature_extraction.text import TfidfTransformer\n",
    "\n",
    "# Convert term frequency matrix to TF-IDF\n",
    "tfidf_transformer = TfidfTransformer(norm='l2', sublinear_tf=False)\n",
    "X_train_tfidf = tfidf_transformer.fit_transform(X_train_split)\n",
    "X_val_tfidf = tfidf_transformer.transform(X_val)\n",
    "X_test_tfidf = tfidf_transformer.transform(X_test)"
   ]
  },
  {
   "cell_type": "code",
   "execution_count": 9,
   "metadata": {},
   "outputs": [
    {
     "name": "stdout",
     "output_type": "stream",
     "text": [
      "Selected features shape: (7537, 10000)\n"
     ]
    }
   ],
   "source": [
    "from sklearn.feature_selection import SelectKBest\n",
    "from sklearn.feature_selection import chi2, mutual_info_classif, f_classif\n",
    "\n",
    "# Select the top 10,000 features using chi-squared test\n",
    "selector = SelectKBest(chi2, k=10000)  # Tune k based on experimentation\n",
    "X_train_selected = selector.fit_transform(X_train_tfidf, y_train_split)\n",
    "X_val_selected = selector.transform(X_val_tfidf)\n",
    "X_test_selected = selector.transform(X_test_tfidf)\n",
    "\n",
    "# Check the shape of selected features\n",
    "print(f\"Selected features shape: {X_train_selected.shape}\")\n"
   ]
  },
  {
   "cell_type": "code",
   "execution_count": null,
   "metadata": {},
   "outputs": [],
   "source": [
    "# from imblearn.over_sampling import SMOTE\n",
    "\n",
    "# # Apply SMOTE to balance the dataset\n",
    "# smote = SMOTE(random_state=42)\n",
    "# X_train_resampled, y_train_resampled = smote.fit_resample(X_train_selected, y_train_split)\n",
    "\n",
    "# # Check the class distribution after SMOTE\n",
    "# print(f\"Resampled class distribution: {np.unique(y_train_resampled, return_counts=True)}\")"
   ]
  },
  {
   "cell_type": "code",
   "execution_count": 31,
   "metadata": {},
   "outputs": [
    {
     "name": "stdout",
     "output_type": "stream",
     "text": [
      "Macro F1 Score for Logistic Regression: 0.733352993500157\n"
     ]
    }
   ],
   "source": [
    "from sklearn.linear_model import LogisticRegression\n",
    "from sklearn.metrics import f1_score\n",
    "\n",
    "\n",
    "# Logistic Regression model with class weights\n",
    "model_lr = LogisticRegression(class_weight='balanced', C=0.4, max_iter=100)\n",
    "\n",
    "model_lr.fit(X_train_selected, y_train_split)\n",
    "# Predict on the test set\n",
    "y_pred_lr = model_lr.predict(X_val_selected)\n",
    "# Calculate macro F1 score\n",
    "f1_lr = f1_score(y_val, y_pred_lr, average='macro')\n",
    "print(f\"Macro F1 Score for Logistic Regression: {f1_lr}\")"
   ]
  },
  {
   "cell_type": "code",
   "execution_count": null,
   "metadata": {},
   "outputs": [
    {
     "name": "stderr",
     "output_type": "stream",
     "text": [
      "[I 2024-11-12 19:46:23,052] A new study created in memory with name: no-name-d846a182-dc8e-4248-9ed9-fdb4816ffa55\n"
     ]
    },
    {
     "name": "stderr",
     "output_type": "stream",
     "text": [
      "C:\\Users\\Nima\\AppData\\Local\\Temp\\ipykernel_6044\\2174399949.py:28: FutureWarning: suggest_loguniform has been deprecated in v3.0.0. This feature will be removed in v6.0.0. See https://github.com/optuna/optuna/releases/tag/v3.0.0. Use suggest_float(..., log=True) instead.\n",
      "  C = trial.suggest_loguniform('C', 1e-4, 1e4)\n"
     ]
    }
   ],
   "source": [
    "import optuna\n",
    "from sklearn.linear_model import LogisticRegression\n",
    "from sklearn.svm import SVC\n",
    "from sklearn.metrics import f1_score\n",
    "from sklearn.model_selection import cross_val_score\n",
    "\n",
    "# Define objective function for Logistic Regression\n",
    "def objective_lr(trial):\n",
    "    # Hyperparameters to tune\n",
    "    C = trial.suggest_loguniform('C', 1e-4, 1e4)\n",
    "    max_iter = trial.suggest_int('max_iter', 100, 1000)\n",
    "    solver = trial.suggest_categorical('solver', ['liblinear', 'lbfgs'])\n",
    "    penalty = trial.suggest_categorical('penalty', ['l2'])\n",
    "    class_weight = trial.suggest_categorical('class_weight', ['balanced'])\n",
    "    \n",
    "    # Instantiate Logistic Regression with the suggested hyperparameters\n",
    "    model_lr = LogisticRegression(C=C, max_iter=max_iter, solver=solver, penalty=penalty, class_weight=class_weight)\n",
    "    \n",
    "    # Perform cross-validation and calculate the macro F1 score\n",
    "    score = cross_val_score(model_lr, X_train_split, y_train_split, cv=3, scoring='f1_macro')\n",
    "    \n",
    "    # Return the mean of the cross-validation scores\n",
    "    return score.mean()\n",
    "\n",
    "# Define objective function for SVC\n",
    "def objective_svc(trial):\n",
    "    # Hyperparameters to tune\n",
    "    C = trial.suggest_loguniform('C', 1e-4, 1e4)\n",
    "    kernel = trial.suggest_categorical('kernel', ['linear'])\n",
    "    gamma = trial.suggest_categorical('gamma', ['scale', 'auto']) if kernel == 'linear' else trial.suggest_loguniform('gamma', 1e-4, 1e4)\n",
    "    degree = trial.suggest_int('degree', 2, 4) if kernel == 'poly' else 3\n",
    "    class_weight = trial.suggest_categorical('class_weight', ['balanced', None])\n",
    "    \n",
    "    # Instantiate SVC with the suggested hyperparameters\n",
    "    model_svc = SVC(C=C, kernel=kernel, gamma=gamma, degree=degree, class_weight=class_weight)\n",
    "    \n",
    "    # Perform cross-validation and calculate the macro F1 score\n",
    "    score = cross_val_score(model_svc, X_train_split, y_train_split, cv=3, scoring='f1_macro')\n",
    "    \n",
    "    # Return the mean of the cross-validation scores\n",
    "    return score.mean()\n",
    "\n",
    "# Optimize Logistic Regression hyperparameters using Optuna\n",
    "study_lr = optuna.create_study(direction='maximize')\n",
    "study_lr.optimize(objective_lr, n_trials=100)  # 100 trials for optimization\n",
    "\n",
    "# Best hyperparameters found for Logistic Regression\n",
    "print(\"Best parameters for Logistic Regression:\", study_lr.best_params)\n",
    "\n",
    "# Optimize SVC hyperparameters using Optuna\n",
    "study_svc = optuna.create_study(direction='maximize')\n",
    "study_svc.optimize(objective_svc, n_trials=100)  # 100 trials for optimization\n",
    "\n",
    "# Best hyperparameters found for SVC\n",
    "print(\"Best parameters for SVC:\", study_svc.best_params)"
   ]
  },
  {
   "cell_type": "code",
   "execution_count": null,
   "metadata": {},
   "outputs": [],
   "source": [
    "from sklearn.ensemble import RandomForestClassifier\n",
    "\n",
    "model_rf = RandomForestClassifier(n_estimators=5000, max_depth=20, random_state=42, class_weight='balanced', n_jobs=-1)\n",
    "\n",
    "# Support Vector Machine\n",
    "model_rf.fit(X_train_selected, y_train_split)\n",
    "\n",
    "# Predict on the test set\n",
    "y_pred_lr = model_rf.predict(X_val_selected)\n",
    "\n",
    "# Calculate macro F1 score\n",
    "f1_lr = f1_score(y_val, y_pred_lr, average='macro')\n",
    "print(f\"Macro F1 Score for Logistic Regression: {f1_lr}\")"
   ]
  },
  {
   "cell_type": "code",
   "execution_count": 53,
   "metadata": {},
   "outputs": [
    {
     "name": "stdout",
     "output_type": "stream",
     "text": [
      "Macro F1 Score for SVM: 0.7236416658003396\n"
     ]
    }
   ],
   "source": [
    "from sklearn.svm import SVC\n",
    "\n",
    "# SVM with linear kernel\n",
    "model_svm = SVC(kernel='linear', C=0.1, class_weight='balanced', random_state=42)\n",
    "model_svm.fit(X_train_selected, y_train_split)\n",
    "\n",
    "# Predict and evaluate\n",
    "y_pred_svm = model_svm.predict(X_val_selected)\n",
    "f1_svm = f1_score(y_val, y_pred_svm, average='macro')\n",
    "print(f\"Macro F1 Score for SVM: {f1_svm}\")"
   ]
  },
  {
   "cell_type": "code",
   "execution_count": null,
   "metadata": {},
   "outputs": [],
   "source": [
    "model_svm_rbf = SVC(kernel='rbf', C=1.0, gamma='scale', class_weight='balanced', random_state=42)\n",
    "model_svm_rbf.fit(X_train_selected, y_train_split)\n",
    "\n",
    "# Predict and evaluate\n",
    "y_pred_svm_rbf = model_svm_rbf.predict(X_val_selected)\n",
    "f1_svm_rbf = f1_score(y_val, y_pred_svm_rbf, average='macro')\n",
    "print(f\"Macro F1 Score for SVM with RBF Kernel: {f1_svm_rbf}\")"
   ]
  },
  {
   "cell_type": "code",
   "execution_count": 57,
   "metadata": {},
   "outputs": [
    {
     "name": "stdout",
     "output_type": "stream",
     "text": [
      "Macro F1 Score for XGBoost: 0.7081450853091763\n"
     ]
    }
   ],
   "source": [
    "import xgboost as xgb\n",
    "\n",
    "# XGBoost Classifier\n",
    "model_xgb = xgb.XGBClassifier(\n",
    "    objective='binary:logistic',\n",
    "    max_depth=10,\n",
    "    learning_rate=0.1,\n",
    "    n_estimators=500,\n",
    "    scale_pos_weight=10,  # Can be adjusted to deal with class imbalance\n",
    "    random_state=42\n",
    ")\n",
    "model_xgb.fit(X_train_selected, y_train_split)\n",
    "\n",
    "# Predict and evaluate\n",
    "y_pred_xgb = model_xgb.predict(X_val_selected)\n",
    "f1_xgb = f1_score(y_val, y_pred_xgb, average='macro')\n",
    "print(f\"Macro F1 Score for XGBoost: {f1_xgb}\")"
   ]
  },
  {
   "cell_type": "code",
   "execution_count": 40,
   "metadata": {},
   "outputs": [
    {
     "name": "stdout",
     "output_type": "stream",
     "text": [
      "[LightGBM] [Info] Number of positive: 1829, number of negative: 5708\n",
      "[LightGBM] [Info] Auto-choosing col-wise multi-threading, the overhead of testing was 0.052518 seconds.\n",
      "You can set `force_col_wise=true` to remove the overhead.\n",
      "[LightGBM] [Info] Total Bins 105901\n",
      "[LightGBM] [Info] Number of data points in the train set: 7537, number of used features: 2264\n",
      "[LightGBM] [Info] [binary:BoostFromScore]: pavg=0.500000 -> initscore=0.000000\n",
      "[LightGBM] [Info] Start training from score 0.000000\n",
      "Macro F1 Score for LightGBM: 0.721762571763737\n"
     ]
    }
   ],
   "source": [
    "import lightgbm as lgb\n",
    "\n",
    "# LightGBM Classifier\n",
    "model_lgb = lgb.LGBMClassifier(\n",
    "    objective='binary',\n",
    "    boosting_type='gbdt',\n",
    "    num_leaves=35,\n",
    "    learning_rate=0.01,\n",
    "    n_estimators=1000,\n",
    "    class_weight='balanced',\n",
    "    random_state=42\n",
    ")\n",
    "model_lgb.fit(X_train_selected, y_train_split)\n",
    "\n",
    "# Predict and evaluate\n",
    "y_pred_lgb = model_lgb.predict(X_val_selected)\n",
    "f1_lgb = f1_score(y_val, y_pred_lgb, average='macro')\n",
    "print(f\"Macro F1 Score for LightGBM: {f1_lgb}\")"
   ]
  },
  {
   "cell_type": "code",
   "execution_count": 44,
   "metadata": {},
   "outputs": [
    {
     "name": "stdout",
     "output_type": "stream",
     "text": [
      "Macro F1 Score for Naive Bayes: 0.7272913514044371\n"
     ]
    }
   ],
   "source": [
    "from sklearn.naive_bayes import MultinomialNB, GaussianNB, ComplementNB, CategoricalNB, BernoulliNB\n",
    "\n",
    "\n",
    "# Naive Bayes Classifier\n",
    "model_nb = BernoulliNB(class_prior=[0.4, 0.6], alpha=1.3)\n",
    "model_nb.fit(X_train_selected, y_train_split)\n",
    "\n",
    "# Predict and evaluate\n",
    "y_pred_nb = model_nb.predict(X_val_selected)\n",
    "f1_nb = f1_score(y_val, y_pred_nb, average='macro')\n",
    "print(f\"Macro F1 Score for Naive Bayes: {f1_nb}\")"
   ]
  },
  {
   "cell_type": "code",
   "execution_count": null,
   "metadata": {},
   "outputs": [
    {
     "name": "stdout",
     "output_type": "stream",
     "text": [
      "[LightGBM] [Info] Number of positive: 1829, number of negative: 5708\n",
      "[LightGBM] [Info] Auto-choosing row-wise multi-threading, the overhead of testing was 0.062938 seconds.\n",
      "You can set `force_row_wise=true` to remove the overhead.\n",
      "And if memory is not enough, you can set `force_col_wise=true`.\n",
      "[LightGBM] [Info] Total Bins 105901\n",
      "[LightGBM] [Info] Number of data points in the train set: 7537, number of used features: 2264\n",
      "[LightGBM] [Info] [binary:BoostFromScore]: pavg=0.500000 -> initscore=0.000000\n",
      "[LightGBM] [Info] Start training from score 0.000000\n",
      "Macro F1 Score for Voting Classifier: 0.7381726254965693\n"
     ]
    }
   ],
   "source": [
    "from sklearn.ensemble import VotingClassifier\n",
    "import lightgbm as lgb\n",
    "from sklearn.naive_bayes import BernoulliNB\n",
    "import lightgbm as lgb\n",
    "import xgboost as xgb\n",
    "from sklearn.svm import SVC\n",
    "\n",
    "\n",
    "# Create the voting classifier\n",
    "voting_clf = VotingClassifier(estimators=[\n",
    "    ('lr', LogisticRegression(class_weight='balanced', C=0.4, max_iter=700)),\n",
    "    ('nb', BernoulliNB(class_prior=[0.4, 0.6], alpha=1.3)),\n",
    "    ('svc', SVC(kernel='linear', C=0.1, class_weight='balanced', random_state=42, probability=True)),\n",
    "    ('lgb', lgb.LGBMClassifier(objective='binary', boosting_type='gbdt', num_leaves=35, learning_rate=0.01, n_estimators=100, class_weight='balanced'))\n",
    "], voting='soft')\n",
    "\n",
    "# Fit the ensemble model\n",
    "voting_clf.fit(X_train_selected, y_train_split)\n",
    "\n",
    "# Predict and evaluate\n",
    "y_pred_voting = voting_clf.predict(X_val_selected)\n",
    "f1_voting = f1_score(y_val, y_pred_voting, average='macro')\n",
    "print(f\"Macro F1 Score for Voting Classifier: {f1_voting}\")\n"
   ]
  },
  {
   "cell_type": "code",
   "execution_count": 78,
   "metadata": {},
   "outputs": [],
   "source": [
    "preds_test = voting_clf.predict(X_test_selected)\n",
    "pd.DataFrame(preds_test, columns=['label']).to_csv(\"Test_prediction.csv\")"
   ]
  },
  {
   "cell_type": "code",
   "execution_count": 55,
   "metadata": {},
   "outputs": [
    {
     "name": "stdout",
     "output_type": "stream",
     "text": [
      "[LightGBM] [Info] Number of positive: 1829, number of negative: 5708\n",
      "[LightGBM] [Info] Auto-choosing col-wise multi-threading, the overhead of testing was 0.055439 seconds.\n",
      "You can set `force_col_wise=true` to remove the overhead.\n",
      "[LightGBM] [Info] Total Bins 105901\n",
      "[LightGBM] [Info] Number of data points in the train set: 7537, number of used features: 2264\n",
      "[LightGBM] [Info] [binary:BoostFromScore]: pavg=0.500000 -> initscore=0.000000\n",
      "[LightGBM] [Info] Start training from score 0.000000\n",
      "[LightGBM] [Info] Number of positive: 1463, number of negative: 4566\n",
      "[LightGBM] [Info] Auto-choosing col-wise multi-threading, the overhead of testing was 0.037992 seconds.\n",
      "You can set `force_col_wise=true` to remove the overhead.\n",
      "[LightGBM] [Info] Total Bins 87863\n",
      "[LightGBM] [Info] Number of data points in the train set: 6029, number of used features: 2034\n",
      "[LightGBM] [Info] [binary:BoostFromScore]: pavg=0.500000 -> initscore=-0.000000\n",
      "[LightGBM] [Info] Start training from score -0.000000\n",
      "[LightGBM] [Info] Number of positive: 1463, number of negative: 4566\n",
      "[LightGBM] [Info] Auto-choosing col-wise multi-threading, the overhead of testing was 0.079765 seconds.\n",
      "You can set `force_col_wise=true` to remove the overhead.\n",
      "[LightGBM] [Info] Total Bins 88023\n",
      "[LightGBM] [Info] Number of data points in the train set: 6029, number of used features: 2031\n",
      "[LightGBM] [Info] [binary:BoostFromScore]: pavg=0.500000 -> initscore=-0.000000\n",
      "[LightGBM] [Info] Start training from score -0.000000\n",
      "[LightGBM] [Info] Number of positive: 1463, number of negative: 4567\n",
      "[LightGBM] [Info] Auto-choosing col-wise multi-threading, the overhead of testing was 0.087189 seconds.\n",
      "You can set `force_col_wise=true` to remove the overhead.\n",
      "[LightGBM] [Info] Total Bins 87958\n",
      "[LightGBM] [Info] Number of data points in the train set: 6030, number of used features: 2032\n",
      "[LightGBM] [Info] [binary:BoostFromScore]: pavg=0.500000 -> initscore=0.000000\n",
      "[LightGBM] [Info] Start training from score 0.000000\n",
      "[LightGBM] [Info] Number of positive: 1463, number of negative: 4567\n",
      "[LightGBM] [Info] Auto-choosing col-wise multi-threading, the overhead of testing was 0.049731 seconds.\n",
      "You can set `force_col_wise=true` to remove the overhead.\n",
      "[LightGBM] [Info] Total Bins 87716\n",
      "[LightGBM] [Info] Number of data points in the train set: 6030, number of used features: 2013\n",
      "[LightGBM] [Info] [binary:BoostFromScore]: pavg=0.500000 -> initscore=0.000000\n",
      "[LightGBM] [Info] Start training from score 0.000000\n",
      "[LightGBM] [Info] Number of positive: 1464, number of negative: 4566\n",
      "[LightGBM] [Info] Auto-choosing col-wise multi-threading, the overhead of testing was 0.040873 seconds.\n",
      "You can set `force_col_wise=true` to remove the overhead.\n",
      "[LightGBM] [Info] Total Bins 87821\n",
      "[LightGBM] [Info] Number of data points in the train set: 6030, number of used features: 2031\n",
      "[LightGBM] [Info] [binary:BoostFromScore]: pavg=0.500000 -> initscore=0.000000\n",
      "[LightGBM] [Info] Start training from score 0.000000\n",
      "Macro F1 Score for Stacking Classifier: 0.6884977476369425\n"
     ]
    }
   ],
   "source": [
    "from sklearn.ensemble import StackingClassifier\n",
    "from sklearn.linear_model import LogisticRegression\n",
    "from sklearn.svm import SVC\n",
    "\n",
    "# Base models\n",
    "base_models = [\n",
    "    ('lr', LogisticRegression(class_weight='balanced', C=0.4, max_iter=700)),\n",
    "    ('svm', SVC(kernel='linear', C=0.1, class_weight='balanced', probability=True)),\n",
    "    ('lgb', lgb.LGBMClassifier(objective='binary', boosting_type='gbdt', num_leaves=35, learning_rate=0.01, n_estimators=1000, class_weight='balanced'))\n",
    "]\n",
    "\n",
    "# Meta-model\n",
    "meta_model = LogisticRegression()\n",
    "\n",
    "# Stacking model\n",
    "stacking_clf = StackingClassifier(estimators=base_models, final_estimator=meta_model)\n",
    "\n",
    "# Train and evaluate\n",
    "stacking_clf.fit(X_train_selected, y_train_split)\n",
    "y_pred_stacking = stacking_clf.predict(X_val_selected)\n",
    "f1_stacking = f1_score(y_val, y_pred_stacking, average='macro')\n",
    "print(f\"Macro F1 Score for Stacking Classifier: {f1_stacking}\")"
   ]
  },
  {
   "cell_type": "code",
   "execution_count": 19,
   "metadata": {},
   "outputs": [
    {
     "name": "stderr",
     "output_type": "stream",
     "text": [
      "g:\\Free_projects\\Kaggle_text_classification_competiotion\\env\\lib\\site-packages\\keras\\src\\layers\\core\\dense.py:87: UserWarning: Do not pass an `input_shape`/`input_dim` argument to a layer. When using Sequential models, prefer using an `Input(shape)` object as the first layer in the model instead.\n",
      "  super().__init__(activity_regularizer=activity_regularizer, **kwargs)\n"
     ]
    },
    {
     "name": "stdout",
     "output_type": "stream",
     "text": [
      "Epoch 1/100\n",
      "118/118 - 24s - 207ms/step - accuracy: 0.6208 - loss: 1.5848 - val_accuracy: 0.7512 - val_loss: 1.5909\n",
      "Epoch 2/100\n",
      "118/118 - 21s - 179ms/step - accuracy: 0.7808 - loss: 1.4526 - val_accuracy: 0.7512 - val_loss: 1.5823\n",
      "Epoch 3/100\n",
      "118/118 - 21s - 179ms/step - accuracy: 0.8777 - loss: 1.2876 - val_accuracy: 0.7512 - val_loss: 1.7408\n",
      "Epoch 4/100\n",
      "118/118 - 21s - 181ms/step - accuracy: 0.9382 - loss: 1.0935 - val_accuracy: 0.7523 - val_loss: 1.7700\n",
      "Epoch 5/100\n",
      "118/118 - 22s - 188ms/step - accuracy: 0.9640 - loss: 0.9420 - val_accuracy: 0.7570 - val_loss: 1.7212\n",
      "Epoch 6/100\n",
      "118/118 - 23s - 191ms/step - accuracy: 0.9667 - loss: 0.8673 - val_accuracy: 0.7714 - val_loss: 1.6144\n",
      "Epoch 7/100\n",
      "118/118 - 23s - 192ms/step - accuracy: 0.9654 - loss: 0.8168 - val_accuracy: 0.7777 - val_loss: 1.6755\n",
      "Epoch 8/100\n",
      "118/118 - 24s - 202ms/step - accuracy: 0.9711 - loss: 0.7781 - val_accuracy: 0.7740 - val_loss: 1.5756\n",
      "Epoch 9/100\n",
      "118/118 - 24s - 204ms/step - accuracy: 0.9708 - loss: 0.7421 - val_accuracy: 0.7756 - val_loss: 1.5537\n",
      "Epoch 10/100\n",
      "118/118 - 24s - 204ms/step - accuracy: 0.9674 - loss: 0.7205 - val_accuracy: 0.7793 - val_loss: 1.5999\n",
      "Epoch 11/100\n",
      "118/118 - 23s - 198ms/step - accuracy: 0.9704 - loss: 0.7084 - val_accuracy: 0.7724 - val_loss: 1.5775\n",
      "Epoch 12/100\n",
      "118/118 - 23s - 199ms/step - accuracy: 0.9708 - loss: 0.6885 - val_accuracy: 0.7586 - val_loss: 1.5520\n",
      "Epoch 13/100\n",
      "118/118 - 23s - 196ms/step - accuracy: 0.9717 - loss: 0.6700 - val_accuracy: 0.7655 - val_loss: 1.5638\n",
      "Epoch 14/100\n",
      "118/118 - 23s - 195ms/step - accuracy: 0.9671 - loss: 0.6833 - val_accuracy: 0.7804 - val_loss: 1.5485\n",
      "Epoch 15/100\n",
      "118/118 - 23s - 197ms/step - accuracy: 0.9733 - loss: 0.6485 - val_accuracy: 0.7629 - val_loss: 1.5150\n",
      "Epoch 16/100\n",
      "118/118 - 23s - 191ms/step - accuracy: 0.9694 - loss: 0.6510 - val_accuracy: 0.7708 - val_loss: 1.4971\n",
      "Epoch 17/100\n",
      "118/118 - 23s - 191ms/step - accuracy: 0.9735 - loss: 0.6234 - val_accuracy: 0.7777 - val_loss: 1.5943\n",
      "Epoch 18/100\n",
      "118/118 - 22s - 188ms/step - accuracy: 0.9672 - loss: 0.6459 - val_accuracy: 0.7761 - val_loss: 1.4807\n",
      "Epoch 19/100\n",
      "118/118 - 22s - 188ms/step - accuracy: 0.9686 - loss: 0.6334 - val_accuracy: 0.7761 - val_loss: 1.4963\n",
      "Epoch 20/100\n",
      "118/118 - 22s - 188ms/step - accuracy: 0.9796 - loss: 0.5757 - val_accuracy: 0.7735 - val_loss: 1.5144\n",
      "Epoch 21/100\n",
      "118/118 - 22s - 187ms/step - accuracy: 0.9741 - loss: 0.5779 - val_accuracy: 0.7512 - val_loss: 1.5438\n",
      "Epoch 22/100\n",
      "118/118 - 22s - 189ms/step - accuracy: 0.9708 - loss: 0.5926 - val_accuracy: 0.7745 - val_loss: 1.4929\n",
      "Epoch 23/100\n",
      "118/118 - 23s - 192ms/step - accuracy: 0.9713 - loss: 0.5966 - val_accuracy: 0.7729 - val_loss: 1.5247\n",
      "Epoch 24/100\n",
      "118/118 - 23s - 191ms/step - accuracy: 0.9728 - loss: 0.6016 - val_accuracy: 0.7607 - val_loss: 1.4464\n",
      "\u001b[1m59/59\u001b[0m \u001b[32m━━━━━━━━━━━━━━━━━━━━\u001b[0m\u001b[37m\u001b[0m \u001b[1m1s\u001b[0m 14ms/step\n",
      "Macro F1 Score for Neural Network: 0.6505232366512854\n",
      "\u001b[1m74/74\u001b[0m \u001b[32m━━━━━━━━━━━━━━━━━━━━\u001b[0m\u001b[37m\u001b[0m \u001b[1m1s\u001b[0m 12ms/step\n"
     ]
    }
   ],
   "source": [
    "import numpy as np\n",
    "import pandas as pd\n",
    "from sklearn.model_selection import train_test_split\n",
    "from sklearn.feature_extraction.text import TfidfTransformer\n",
    "from sklearn.metrics import f1_score\n",
    "from tensorflow.keras.models import Sequential\n",
    "from tensorflow.keras.layers import Dense, Dropout, BatchNormalization\n",
    "from tensorflow.keras.optimizers import Adam\n",
    "from tensorflow.keras.regularizers import l2\n",
    "from tensorflow.keras.callbacks import EarlyStopping\n",
    "from sklearn.utils.class_weight import compute_class_weight\n",
    "\n",
    "\n",
    "# Load the training and test data\n",
    "X_train = np.load('data_train.npy')\n",
    "X_test = np.load('data_test.npy')\n",
    "\n",
    "# Load the training labels\n",
    "y_train = pd.read_csv('label_train.csv')['label'].values\n",
    "\n",
    "# Split the data into train and validation sets\n",
    "X_train_split, X_val, y_train_split, y_val = train_test_split(X_train, y_train, test_size=0.2, random_state=42)\n",
    "\n",
    "# TF-IDF Transformation\n",
    "tfidf_transformer = TfidfTransformer(norm='l2', sublinear_tf=False)\n",
    "X_train_tfidf = tfidf_transformer.fit_transform(X_train_split)\n",
    "X_val_tfidf = tfidf_transformer.transform(X_val)\n",
    "X_test_tfidf = tfidf_transformer.transform(X_test)\n",
    "\n",
    "class_weights = compute_class_weight('balanced', classes=np.unique(y_train), y=y_train)\n",
    "class_weights = dict(zip(np.unique(y_train), class_weights))\n",
    "\n",
    "# Neural Network Architecture\n",
    "model_nn = Sequential()\n",
    "\n",
    "# Input Layer (matches the feature dimension from TF-IDF)\n",
    "model_nn.add(Dense(512, input_dim=X_train_tfidf.shape[1], activation='relu', kernel_regularizer=l2(0.001)))\n",
    "model_nn.add(BatchNormalization())  # Normalize the input\n",
    "model_nn.add(Dropout(0.5))  # Dropout for regularization\n",
    "\n",
    "# Hidden Layer 1\n",
    "model_nn.add(Dense(256, activation='relu', kernel_regularizer=l2(0.001)))\n",
    "model_nn.add(BatchNormalization())\n",
    "model_nn.add(Dropout(0.5))\n",
    "\n",
    "# Hidden Layer 2\n",
    "model_nn.add(Dense(128, activation='relu', kernel_regularizer=l2(0.001)))\n",
    "model_nn.add(BatchNormalization())\n",
    "model_nn.add(Dropout(0.5))\n",
    "\n",
    "# Output Layer (binary classification)\n",
    "model_nn.add(Dense(1, activation='sigmoid'))  # Sigmoid for binary classification\n",
    "\n",
    "# Compile the model\n",
    "model_nn.compile(optimizer=Adam(learning_rate=0.001), loss='binary_crossentropy', metrics=['accuracy'])\n",
    "\n",
    "# Early stopping to prevent overfitting\n",
    "early_stopping = EarlyStopping(monitor='val_accuracy', patience=10, restore_best_weights=True)\n",
    "\n",
    "# Train the model\n",
    "history = model_nn.fit(X_train_tfidf, y_train_split, epochs=100,class_weight=class_weights, batch_size=64, validation_data=(X_val_tfidf, y_val), \n",
    "                       callbacks=[early_stopping], verbose=2)\n",
    "\n",
    "# Predict on the validation set\n",
    "y_pred_nn = (model_nn.predict(X_val_tfidf) > 0.5).astype(\"int32\")\n",
    "\n",
    "# Calculate Macro F1 Score\n",
    "f1_nn = f1_score(y_val, y_pred_nn, average='macro')\n",
    "print(f\"Macro F1 Score for Neural Network: {f1_nn}\")\n",
    "\n",
    "# Predict on the test set\n",
    "y_pred_test = (model_nn.predict(X_test_tfidf) > 0.5).astype(\"int32\")\n"
   ]
  },
  {
   "cell_type": "code",
   "execution_count": 40,
   "metadata": {},
   "outputs": [
    {
     "data": {
      "image/png": "[encoded data removed]",
      "text/plain": [
       "<Figure size 1000x600 with 1 Axes>"
      ]
     },
     "metadata": {},
     "output_type": "display_data"
    }
   ],
   "source": [
    "import matplotlib.pyplot as plt\n",
    "\n",
    "models = ['Voting classifier', 'Logistic Regression', 'SVM', 'LightGBM', 'Naive Bayes', 'Neural Network']\n",
    "f1_scores = [0.738, 0.733, 0.724, 0.722, 0.701, 0.651]\n",
    "\n",
    "plt.figure(figsize=(10, 6))\n",
    "plt.bar(models, f1_scores, color=['black', 'blue', 'green', 'orange', 'red', 'purple'])\n",
    "plt.title('Comparison of Macro F1 Scores for Different Models')\n",
    "plt.xlabel('Models')\n",
    "plt.xticks(rotation=45)\n",
    "plt.ylabel('Macro F1 Score')\n",
    "plt.ylim(0.6, 0.8)\n",
    "plt.show()"
   ]
  },
  {
   "cell_type": "code",
   "execution_count": 61,
   "metadata": {},
   "outputs": [
    {
     "name": "stdout",
     "output_type": "stream",
     "text": [
      "Macro F1 Score for Voting classifier: 0.7381726254965693\n"
     ]
    },
    {
     "data": {
      "image/png": "[encoded data removed]",
      "text/plain": [
       "<Figure size 800x600 with 1 Axes>"
      ]
     },
     "metadata": {},
     "output_type": "display_data"
    },
    {
     "name": "stdout",
     "output_type": "stream",
     "text": [
      "ROC AUC for Voting classifier: 0.84\n"
     ]
    }
   ],
   "source": [
    "import numpy as np\n",
    "import pandas as pd\n",
    "from sklearn.linear_model import LogisticRegression\n",
    "from sklearn.metrics import f1_score, roc_curve, auc\n",
    "import matplotlib.pyplot as plt\n",
    "\n",
    "\n",
    "# Predict the probabilities on the validation set (for ROC curve)\n",
    "y_prob_voting = voting_clf.predict_proba(X_val_selected)[:, 1]  # Probabilities for class 1\n",
    "\n",
    "# Predict the class labels (for F1 score)\n",
    "y_pred_voting = voting_clf.predict(X_val_selected)\n",
    "\n",
    "# Calculate Macro F1 score\n",
    "f1_lr = f1_score(y_val, y_pred_voting, average='macro')\n",
    "print(f\"Macro F1 Score for Voting classifier: {f1_lr}\")\n",
    "\n",
    "# Calculate ROC curve\n",
    "fpr, tpr, thresholds = roc_curve(y_val, y_prob_voting)\n",
    "roc_auc = auc(fpr, tpr)\n",
    "\n",
    "# Plot ROC curve\n",
    "plt.figure(figsize=(8, 6))\n",
    "plt.plot(fpr, tpr, color='blue', lw=2, label=f'ROC curve (AUC = {roc_auc:.2f})')\n",
    "plt.plot([0, 1], [0, 1], color='gray', linestyle='--')  # Diagonal line (no skill)\n",
    "plt.xlabel('False Positive Rate')\n",
    "plt.ylabel('True Positive Rate')\n",
    "plt.title('Receiver Operating Characteristic (ROC) Curve')\n",
    "plt.legend(loc='lower right')\n",
    "plt.grid(True)\n",
    "plt.show()\n",
    "\n",
    "# Print the AUC score\n",
    "print(f\"ROC AUC for Voting classifier: {roc_auc:.2f}\")\n"
   ]
  },
  {
   "cell_type": "code",
   "execution_count": null,
   "metadata": {},
   "outputs": [],
   "source": []
  }
 ],
 "metadata": {
  "kernelspec": {
   "display_name": "env",
   "language": "python",
   "name": "python3"
  },
  "language_info": {
   "codemirror_mode": {
    "name": "ipython",
    "version": 3
   },
   "file_extension": ".py",
   "mimetype": "text/x-python",
   "name": "python",
   "nbconvert_exporter": "python",
   "pygments_lexer": "ipython3",
   "version": "3.10.0rc2"
  }
 },
 "nbformat": 4,
 "nbformat_minor": 2
}
